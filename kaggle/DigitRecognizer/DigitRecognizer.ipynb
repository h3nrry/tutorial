{
 "cells": [
  {
   "cell_type": "code",
   "execution_count": 2,
   "metadata": {},
   "outputs": [
    {
     "name": "stdout",
     "output_type": "stream",
     "text": [
      "0.25.1\n",
      "./train.csv\n",
      "./.README.md.swp\n",
      "./test.csv\n",
      "./README.md\n",
      "./DigitRecognizer.ipynb\n",
      "./.idea/DigitRecognizer.iml\n",
      "./.idea/vcs.xml\n",
      "./.idea/.gitignore\n",
      "./.idea/misc.xml\n",
      "./.idea/modules.xml\n",
      "./.idea/workspace.xml\n",
      "./.idea/inspectionProfiles/profiles_settings.xml\n",
      "./.ipynb_checkpoints/DigitRecognizer-checkpoint.ipynb\n"
     ]
    }
   ],
   "source": [
    "# This Python 3 environment comes with many helpful analytics libraries installed\n",
    "# It is defined by the kaggle/python docker image: https://github.com/kaggle/docker-python\n",
    "# For example, here's several helpful packages to load in \n",
    "\n",
    "import numpy as np # linear algebra\n",
    "import pandas as pd #data processing, CSV file I/O (e.g. pd.read_csv)\n",
    "\n",
    "# Input data files are available in the \"../input/\" directory.\n",
    "# For example, running this (by clicking run or pressing Shift+Enter) will list all files under the input directory\n",
    "\n",
    "import pandas as pd\n",
    "print(pd.__version__)\n",
    "\n",
    "import os\n",
    "#for dirname, _, filenames in os.walk('/kaggle/input'):\n",
    "for dirname, _, filenames in os.walk('.'):\n",
    "    for filename in filenames:\n",
    "        print(os.path.join(dirname, filename))\n",
    "\n",
    "        # Any results you write to the current directory are saved as output."
   ]
  },
  {
   "cell_type": "code",
   "execution_count": 3,
   "metadata": {},
   "outputs": [
    {
     "name": "stderr",
     "output_type": "stream",
     "text": [
      "Using TensorFlow backend.\n"
     ]
    }
   ],
   "source": [
    "import tensorflow as tf\n",
    "#from tensorflow.keras.preprocessing.image import ImageDataGenerator\n",
    "from tensorflow.keras.models import Sequential\n",
    "from tensorflow.keras.layers import Conv2D, MaxPooling2D, Dense, Flatten#, Dropout, Activation\n",
    "from keras.utils import to_categorical\n",
    "from tensorflow.keras.callbacks import ModelCheckpoint\n",
    "import matplotlib.pyplot as plt"
   ]
  },
  {
   "cell_type": "code",
   "execution_count": 4,
   "metadata": {},
   "outputs": [],
   "source": [
    "train_df = pd.read_csv(\"./train.csv\")\n",
    "test_df = pd.read_csv(\"./test.csv\")"
   ]
  },
  {
   "cell_type": "code",
   "execution_count": 5,
   "metadata": {},
   "outputs": [],
   "source": [
    "height = 28\n",
    "width = 28\n",
    "classes = 10"
   ]
  },
  {
   "cell_type": "code",
   "execution_count": 6,
   "metadata": {},
   "outputs": [],
   "source": [
    "# training images\n",
    "X_train = train_df.drop('label', 1).to_numpy().reshape(len(train_df),height,width,1).astype('float32')\n",
    "X_train /= 255\n",
    "\n",
    "# training lables          \n",
    "y_train = to_categorical(train_df['label'],classes)\n",
    "\n",
    "# test images\n",
    "X_test = test_df.to_numpy().reshape(len(test_df),height,width,1).astype('float32')\n",
    "X_test /= 255\n"
   ]
  },
  {
   "cell_type": "code",
   "execution_count": 7,
   "metadata": {},
   "outputs": [
    {
     "name": "stdout",
     "output_type": "stream",
     "text": [
      "(42000, 28, 28, 1)\n",
      "(42000, 10)\n",
      "(28000, 28, 28, 1)\n"
     ]
    }
   ],
   "source": [
    "print(X_train.shape)\n",
    "print(y_train.shape)\n",
    "print(X_test.shape)"
   ]
  },
  {
   "cell_type": "code",
   "execution_count": 8,
   "metadata": {},
   "outputs": [
    {
     "data": {
      "image/png": "[encoded data removed]",
      "text/plain": [
       "<Figure size 1440x1440 with 10 Axes>"
      ]
     },
     "metadata": {
      "needs_background": "light"
     },
     "output_type": "display_data"
    }
   ],
   "source": [
    "# visualise some training labels\n",
    "f, axarr = plt.subplots(1,10, figsize=(20,20))\n",
    "for i in range(10):\n",
    "    image = X_train[i].reshape(28,28)\n",
    "    axarr[i].axis('off')\n",
    "    axarr[i].set_title(\"label = \" + str(train_df['label'][i]))\n",
    "    axarr[i].imshow(image, cmap='gray')"
   ]
  },
  {
   "cell_type": "code",
   "execution_count": 9,
   "metadata": {},
   "outputs": [],
   "source": [
    "#compile model\n",
    "model = Sequential()\n",
    "model.add(Conv2D(32, kernel_size=(2,2), input_shape=(width, height,1), padding='same', activation='relu'))\n",
    "model.add(MaxPooling2D())\n",
    "model.add(Conv2D(64, kernel_size=(2,2), padding='same', activation='relu'))\n",
    "model.add(MaxPooling2D())\n",
    "model.add(Flatten())\n",
    "model.add(Dense(1024, activation='relu'))\n",
    "model.add(Dense(classes, activation='softmax'))\n",
    "\n",
    "model.compile(optimizer='adam', loss='categorical_crossentropy', metrics=['accuracy'])"
   ]
  },
  {
   "cell_type": "code",
   "execution_count": 10,
   "metadata": {},
   "outputs": [
    {
     "name": "stdout",
     "output_type": "stream",
     "text": [
      "Model: \"sequential\"\n",
      "_________________________________________________________________\n",
      "Layer (type)                 Output Shape              Param #   \n",
      "=================================================================\n",
      "conv2d (Conv2D)              (None, 28, 28, 32)        160       \n",
      "_________________________________________________________________\n",
      "max_pooling2d (MaxPooling2D) (None, 14, 14, 32)        0         \n",
      "_________________________________________________________________\n",
      "conv2d_1 (Conv2D)            (None, 14, 14, 64)        8256      \n",
      "_________________________________________________________________\n",
      "max_pooling2d_1 (MaxPooling2 (None, 7, 7, 64)          0         \n",
      "_________________________________________________________________\n",
      "flatten (Flatten)            (None, 3136)              0         \n",
      "_________________________________________________________________\n",
      "dense (Dense)                (None, 1024)              3212288   \n",
      "_________________________________________________________________\n",
      "dense_1 (Dense)              (None, 10)                10250     \n",
      "=================================================================\n",
      "Total params: 3,230,954\n",
      "Trainable params: 3,230,954\n",
      "Non-trainable params: 0\n",
      "_________________________________________________________________\n"
     ]
    }
   ],
   "source": [
    "model.summary()"
   ]
  },
  {
   "cell_type": "code",
   "execution_count": 11,
   "metadata": {},
   "outputs": [
    {
     "name": "stdout",
     "output_type": "stream",
     "text": [
      "Train on 29399 samples, validate on 12601 samples\n",
      "Epoch 1/20\n",
      "WARNING:tensorflow:Entity <function Function._initialize_uninitialized_variables.<locals>.initialize_variables at 0x7f569c8198c8> could not be transformed and will be executed as-is. Please report this to the AutoGraph team. When filing the bug, set the verbosity to 10 (on Linux, `export AUTOGRAPH_VERBOSITY=10`) and attach the full output. Cause: module 'gast' has no attribute 'Num'\n",
      "WARNING: Entity <function Function._initialize_uninitialized_variables.<locals>.initialize_variables at 0x7f569c8198c8> could not be transformed and will be executed as-is. Please report this to the AutoGraph team. When filing the bug, set the verbosity to 10 (on Linux, `export AUTOGRAPH_VERBOSITY=10`) and attach the full output. Cause: module 'gast' has no attribute 'Num'\n",
      "29399/29399 [==============================] - 44s 1ms/sample - loss: 0.1715 - accuracy: 0.9461 - val_loss: 0.0835 - val_accuracy: 0.9727\n",
      "Epoch 2/20\n",
      "29399/29399 [==============================] - 38s 1ms/sample - loss: 0.0552 - accuracy: 0.9824 - val_loss: 0.0646 - val_accuracy: 0.9799\n",
      "Epoch 3/20\n",
      "29399/29399 [==============================] - 35s 1ms/sample - loss: 0.0343 - accuracy: 0.9884 - val_loss: 0.0518 - val_accuracy: 0.9848\n",
      "Epoch 4/20\n",
      "29399/29399 [==============================] - 36s 1ms/sample - loss: 0.0239 - accuracy: 0.9927 - val_loss: 0.0465 - val_accuracy: 0.9862\n",
      "Epoch 5/20\n",
      "29399/29399 [==============================] - 37s 1ms/sample - loss: 0.0174 - accuracy: 0.9943 - val_loss: 0.0602 - val_accuracy: 0.9850\n",
      "Epoch 6/20\n",
      "29399/29399 [==============================] - 39s 1ms/sample - loss: 0.0116 - accuracy: 0.9960 - val_loss: 0.0556 - val_accuracy: 0.9850\n",
      "Epoch 7/20\n",
      "29399/29399 [==============================] - 37s 1ms/sample - loss: 0.0133 - accuracy: 0.9955 - val_loss: 0.0612 - val_accuracy: 0.9837\n",
      "Epoch 8/20\n",
      "29399/29399 [==============================] - 37s 1ms/sample - loss: 0.0067 - accuracy: 0.9978 - val_loss: 0.0808 - val_accuracy: 0.9809\n",
      "Epoch 9/20\n",
      "29399/29399 [==============================] - 42s 1ms/sample - loss: 0.0094 - accuracy: 0.9965 - val_loss: 0.0684 - val_accuracy: 0.9842\n",
      "Epoch 10/20\n",
      "29399/29399 [==============================] - 46s 2ms/sample - loss: 0.0059 - accuracy: 0.9981 - val_loss: 0.0856 - val_accuracy: 0.9829\n",
      "Epoch 11/20\n",
      "29399/29399 [==============================] - 48s 2ms/sample - loss: 0.0079 - accuracy: 0.9974 - val_loss: 0.0614 - val_accuracy: 0.9878\n",
      "Epoch 12/20\n",
      "29399/29399 [==============================] - 46s 2ms/sample - loss: 0.0041 - accuracy: 0.9989 - val_loss: 0.0793 - val_accuracy: 0.9838\n",
      "Epoch 13/20\n",
      "29399/29399 [==============================] - 46s 2ms/sample - loss: 0.0074 - accuracy: 0.9976 - val_loss: 0.0684 - val_accuracy: 0.9860\n",
      "Epoch 14/20\n",
      "29399/29399 [==============================] - 46s 2ms/sample - loss: 0.0062 - accuracy: 0.9979 - val_loss: 0.0696 - val_accuracy: 0.9870\n",
      "Epoch 15/20\n",
      "29399/29399 [==============================] - 46s 2ms/sample - loss: 0.0025 - accuracy: 0.9992 - val_loss: 0.0684 - val_accuracy: 0.9887\n",
      "Epoch 16/20\n",
      "29399/29399 [==============================] - 46s 2ms/sample - loss: 0.0062 - accuracy: 0.9980 - val_loss: 0.1472 - val_accuracy: 0.9796\n",
      "Epoch 17/20\n",
      "29399/29399 [==============================] - 46s 2ms/sample - loss: 0.0068 - accuracy: 0.9982 - val_loss: 0.0792 - val_accuracy: 0.9867\n",
      "Epoch 18/20\n",
      "29399/29399 [==============================] - 46s 2ms/sample - loss: 0.0024 - accuracy: 0.9991 - val_loss: 0.0864 - val_accuracy: 0.9861\n",
      "Epoch 19/20\n",
      "29399/29399 [==============================] - 46s 2ms/sample - loss: 0.0056 - accuracy: 0.9985 - val_loss: 0.0799 - val_accuracy: 0.9861\n",
      "Epoch 20/20\n",
      "29399/29399 [==============================] - 46s 2ms/sample - loss: 0.0028 - accuracy: 0.9991 - val_loss: 0.0764 - val_accuracy: 0.9879\n"
     ]
    }
   ],
   "source": [
    "history = model.fit(X_train, y_train, epochs=20, validation_split=0.3)"
   ]
  },
  {
   "cell_type": "code",
   "execution_count": 21,
   "metadata": {},
   "outputs": [
    {
     "ename": "KeyError",
     "evalue": "'binary_accuracy'",
     "output_type": "error",
     "traceback": [
      "\u001b[0;31m---------------------------------------------------------------------------\u001b[0m",
      "\u001b[0;31mKeyError\u001b[0m                                  Traceback (most recent call last)",
      "\u001b[0;32m<ipython-input-21-49396d74b26c>\u001b[0m in \u001b[0;36m<module>\u001b[0;34m()\u001b[0m\n\u001b[1;32m      1\u001b[0m \u001b[0;31m#accuracy = history.history['acc']\u001b[0m\u001b[0;34m\u001b[0m\u001b[0;34m\u001b[0m\u001b[0m\n\u001b[0;32m----> 2\u001b[0;31m \u001b[0maccuracy\u001b[0m \u001b[0;34m=\u001b[0m \u001b[0mhistory\u001b[0m\u001b[0;34m.\u001b[0m\u001b[0mhistory\u001b[0m\u001b[0;34m[\u001b[0m\u001b[0;34m'binary_accuracy'\u001b[0m\u001b[0;34m]\u001b[0m\u001b[0;34m\u001b[0m\u001b[0m\n\u001b[0m\u001b[1;32m      3\u001b[0m \u001b[0mval_accuracy\u001b[0m \u001b[0;34m=\u001b[0m \u001b[0mhistory\u001b[0m\u001b[0;34m.\u001b[0m\u001b[0mhistory\u001b[0m\u001b[0;34m[\u001b[0m\u001b[0;34m'val_acc'\u001b[0m\u001b[0;34m]\u001b[0m\u001b[0;34m\u001b[0m\u001b[0m\n\u001b[1;32m      4\u001b[0m \u001b[0mloss\u001b[0m \u001b[0;34m=\u001b[0m \u001b[0mhistory\u001b[0m\u001b[0;34m.\u001b[0m\u001b[0mhistory\u001b[0m\u001b[0;34m[\u001b[0m\u001b[0;34m'loss'\u001b[0m\u001b[0;34m]\u001b[0m\u001b[0;34m\u001b[0m\u001b[0m\n\u001b[1;32m      5\u001b[0m \u001b[0mval_loss\u001b[0m \u001b[0;34m=\u001b[0m \u001b[0mhistory\u001b[0m\u001b[0;34m.\u001b[0m\u001b[0mhistory\u001b[0m\u001b[0;34m[\u001b[0m\u001b[0;34m'val_loss'\u001b[0m\u001b[0;34m]\u001b[0m\u001b[0;34m\u001b[0m\u001b[0m\n",
      "\u001b[0;31mKeyError\u001b[0m: 'binary_accuracy'"
     ]
    }
   ],
   "source": [
    "#accuracy = history.history['acc']\n",
    "accuracy = history.history['binary_accuracy']\n",
    "val_accuracy = history.history['val_acc']\n",
    "loss = history.history['loss']\n",
    "val_loss = history.history['val_loss']"
   ]
  },
  {
   "cell_type": "code",
   "execution_count": null,
   "metadata": {},
   "outputs": [],
   "source": []
  },
  {
   "cell_type": "code",
   "execution_count": null,
   "metadata": {},
   "outputs": [],
   "source": []
  },
  {
   "cell_type": "code",
   "execution_count": null,
   "metadata": {},
   "outputs": [],
   "source": []
  },
  {
   "cell_type": "code",
   "execution_count": null,
   "metadata": {},
   "outputs": [],
   "source": []
  },
  {
   "cell_type": "code",
   "execution_count": null,
   "metadata": {},
   "outputs": [],
   "source": []
  },
  {
   "cell_type": "code",
   "execution_count": null,
   "metadata": {},
   "outputs": [],
   "source": []
  },
  {
   "cell_type": "code",
   "execution_count": null,
   "metadata": {},
   "outputs": [],
   "source": []
  },
  {
   "cell_type": "code",
   "execution_count": null,
   "metadata": {},
   "outputs": [],
   "source": []
  },
  {
   "cell_type": "code",
   "execution_count": null,
   "metadata": {},
   "outputs": [],
   "source": []
  },
  {
   "cell_type": "code",
   "execution_count": null,
   "metadata": {},
   "outputs": [],
   "source": []
  },
  {
   "cell_type": "code",
   "execution_count": null,
   "metadata": {},
   "outputs": [],
   "source": []
  },
  {
   "cell_type": "code",
   "execution_count": null,
   "metadata": {},
   "outputs": [],
   "source": []
  },
  {
   "cell_type": "code",
   "execution_count": null,
   "metadata": {},
   "outputs": [],
   "source": []
  }
 ],
 "metadata": {
  "kernelspec": {
   "display_name": "Python 3",
   "language": "python",
   "name": "python3"
  }
 },
 "nbformat": 4,
 "nbformat_minor": 2
}
